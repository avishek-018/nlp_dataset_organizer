{
 "cells": [
  {
   "cell_type": "code",
   "execution_count": 10,
   "metadata": {},
   "outputs": [],
   "source": [
    "import os       #for directory handling\n",
    "import shutil   #for copying file\n",
    "import datetime #get the current datetime\n",
    "import re       #for pattern matching in string"
   ]
  },
  {
   "cell_type": "code",
   "execution_count": 11,
   "metadata": {},
   "outputs": [
    {
     "data": {
      "text/plain": [
       "['Positive', 'Negative', 'Neutral']"
      ]
     },
     "execution_count": 11,
     "metadata": {},
     "output_type": "execute_result"
    }
   ],
   "source": [
    "# do not use / \\ < > ? \" * | symbols in class names => eg: don't use [[Road/Rail]]\n",
    "\n",
    "cls_file = open(\"classes.txt\", 'r')\n",
    "class_names = cls_file.read().splitlines()\n",
    "class_names = [cn for cn in class_names if len(cn)> 0]\n",
    "class_names"
   ]
  },
  {
   "cell_type": "code",
   "execution_count": 12,
   "metadata": {},
   "outputs": [],
   "source": [
    "classes = [\"[[\"+c+\"]]\" for c in class_names]"
   ]
  },
  {
   "cell_type": "code",
   "execution_count": 13,
   "metadata": {},
   "outputs": [],
   "source": [
    "base = \"nlp/\"\n",
    "if not os.path.exists(base[:-1]):\n",
    "        os.makedirs(base[:-1])\n",
    "\n",
    "fn = \"data.txt\"\n",
    "\n",
    "data_path = base+fn\n",
    "try:\n",
    "    file = open(data_path, 'r', encoding=\"utf8\") # open existing file in R&W mode\n",
    "except IOError:\n",
    "    file = open(data_path, 'w', encoding=\"utf8\") \n",
    "    for c in classes:\n",
    "        file.write(c+\"\\n\"*3)\n",
    "    file.close()\n",
    "    file = open(data_path,\"r\", encoding=\"utf8\") "
   ]
  },
  {
   "cell_type": "code",
   "execution_count": 14,
   "metadata": {},
   "outputs": [],
   "source": [
    "lines = file.readlines()\n",
    "file.close()"
   ]
  },
  {
   "cell_type": "code",
   "execution_count": 15,
   "metadata": {},
   "outputs": [
    {
     "name": "stdout",
     "output_type": "stream",
     "text": [
      "Positive  Already exists\n",
      "Negative  Already exists\n",
      "Neutral  Already exists\n"
     ]
    }
   ],
   "source": [
    "for dr in class_names:\n",
    "    if not os.path.exists(base + \"data/\" + dr):\n",
    "        os.makedirs(base + \"data/\" + dr)\n",
    "    else:\n",
    "        print(dr, \" Already exists\")"
   ]
  },
  {
   "cell_type": "code",
   "execution_count": 16,
   "metadata": {
    "scrolled": true
   },
   "outputs": [],
   "source": [
    "for line in lines:\n",
    "    if line[:-1] in classes:\n",
    "        path = base+\"data/\"+line[2:-3]\n",
    "        \n",
    "    elif len(line) < 10:\n",
    "        continue\n",
    "        \n",
    "    else:\n",
    "        data_count = len(os.listdir(path))\n",
    "        f = open(path + \"/\" + str(data_count+1) +\".txt\", \"w\", encoding=\"utf8\")\n",
    "        f.write(line)\n",
    "        f.close()\n",
    "        \n",
    "        "
   ]
  },
  {
   "cell_type": "code",
   "execution_count": 17,
   "metadata": {},
   "outputs": [],
   "source": [
    "backup_path = base+\"backup_raw_data/\"\n",
    "c = 0\n",
    "flag = 1\n",
    "if not os.path.exists(backup_path):\n",
    "        os.makedirs(backup_path)\n",
    "        flag = 0\n",
    "        \n",
    "date = datetime.date.today()\n",
    "\n",
    "\n",
    "for tx in os.listdir(backup_path):\n",
    "    x = re.search(str(date), tx)\n",
    "    if x:\n",
    "        c+=1\n",
    "\n",
    "if c == 0:\n",
    "    backup_name = str(date) + \"_\" + fn\n",
    "else:\n",
    "    backup_name = str(date) + \"_\"  + \"(\" +str(c) + \")_\" + fn\n",
    "\n",
    "\n",
    "if flag:\n",
    "    shutil.copy2(data_path, backup_path+backup_name)\n",
    "    flag = 1"
   ]
  },
  {
   "cell_type": "code",
   "execution_count": 18,
   "metadata": {},
   "outputs": [],
   "source": [
    "file = open(data_path, 'w', encoding=\"utf8\")\n",
    "file.truncate(0)\n",
    "for c in classes:\n",
    "        file.write(c+\"\\n\"*3)\n",
    "file.close()"
   ]
  }
 ],
 "metadata": {
  "kernelspec": {
   "display_name": "Python 3",
   "language": "python",
   "name": "python3"
  },
  "language_info": {
   "codemirror_mode": {
    "name": "ipython",
    "version": 3
   },
   "file_extension": ".py",
   "mimetype": "text/x-python",
   "name": "python",
   "nbconvert_exporter": "python",
   "pygments_lexer": "ipython3",
   "version": "3.6.5"
  }
 },
 "nbformat": 4,
 "nbformat_minor": 2
}
