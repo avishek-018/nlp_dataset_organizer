{
 "cells": [
  {
   "cell_type": "code",
   "execution_count": 32,
   "metadata": {},
   "outputs": [],
   "source": [
    "import os       #for directory handling\n",
    "import shutil   #for copying file\n",
    "import datetime #get the current datetime\n",
    "import re       #for pattern matching in string"
   ]
  },
  {
   "cell_type": "code",
   "execution_count": 33,
   "metadata": {},
   "outputs": [],
   "source": [
    "# do not use / \\ < > ? \" * | symbols in class names => eg: don't use [[Road/Rail]]\n",
    "class_names = [\n",
    "           \"Road-Rail\",\n",
    "           \"Water\", \n",
    "           \"Air\", \n",
    "           \"Fire\", \n",
    "           \"Suicide\", \n",
    "           \"Others\"\n",
    "        ]"
   ]
  },
  {
   "cell_type": "code",
   "execution_count": 34,
   "metadata": {},
   "outputs": [],
   "source": [
    "classes = [\"[[\"+c+\"]]\" for c in class_names]"
   ]
  },
  {
   "cell_type": "code",
   "execution_count": 35,
   "metadata": {},
   "outputs": [],
   "source": [
    "fn = \"data.txt\"\n",
    "try:\n",
    "    file = open(fn, 'r', encoding=\"utf8\") # open existing file in R&W mode\n",
    "except IOError:\n",
    "    file = open(fn, 'w', encoding=\"utf8\") \n",
    "    for c in classes:\n",
    "        file.write(c+\"\\n\"*3)\n",
    "    file.close()\n",
    "    file = open(fn,\"r\", encoding=\"utf8\") "
   ]
  },
  {
   "cell_type": "code",
   "execution_count": 36,
   "metadata": {},
   "outputs": [],
   "source": [
    "lines = file.readlines()\n",
    "file.close()"
   ]
  },
  {
   "cell_type": "code",
   "execution_count": 37,
   "metadata": {},
   "outputs": [
    {
     "name": "stdout",
     "output_type": "stream",
     "text": [
      "Road-Rail  Already exists\n",
      "Water  Already exists\n",
      "Air  Already exists\n",
      "Fire  Already exists\n",
      "Suicide  Already exists\n",
      "Others  Already exists\n"
     ]
    }
   ],
   "source": [
    "for dr in class_names:\n",
    "    if not os.path.exists(\"data/\"+dr):\n",
    "        os.makedirs(\"data/\" + dr)\n",
    "    else:\n",
    "        print(dr, \" Already exists\")"
   ]
  },
  {
   "cell_type": "code",
   "execution_count": 38,
   "metadata": {
    "scrolled": true
   },
   "outputs": [],
   "source": [
    "for line in lines:\n",
    "    if line[:-1] in classes:\n",
    "        path = \"data/\"+line[2:-3]\n",
    "        \n",
    "    elif len(line) < 20:\n",
    "        continue\n",
    "        \n",
    "    else:\n",
    "        data_count = len(os.listdir(path))\n",
    "        f = open(path + \"/\" + str(data_count+1) +\".txt\", \"w\", encoding=\"utf8\")\n",
    "        f.write(line)\n",
    "        f.close()\n",
    "        \n",
    "        "
   ]
  },
  {
   "cell_type": "code",
   "execution_count": 39,
   "metadata": {},
   "outputs": [],
   "source": [
    "backup_path = \"backup_raw_data/\"\n",
    "c = 0\n",
    "flag = 1\n",
    "if not os.path.exists(backup_path):\n",
    "        os.makedirs(backup_path)\n",
    "        flag = 0\n",
    "        \n",
    "date = datetime.date.today()\n",
    "\n",
    "\n",
    "for tx in os.listdir(backup_path):\n",
    "    x = re.search(str(date), tx)\n",
    "    if x:\n",
    "        c+=1\n",
    "\n",
    "if c == 0:\n",
    "    backup_name = str(date) + \"_\" + fn\n",
    "else:\n",
    "    backup_name = str(date) + \"_\"  + \"(\" +str(c) + \")_\" + fn\n",
    "\n",
    "\n",
    "if flag:\n",
    "    shutil.copy2(fn, backup_path+backup_name)\n",
    "    flag = 1"
   ]
  },
  {
   "cell_type": "code",
   "execution_count": 40,
   "metadata": {},
   "outputs": [],
   "source": [
    "file = open(fn, 'w', encoding=\"utf8\")\n",
    "file.truncate(0)\n",
    "for c in classes:\n",
    "        file.write(c+\"\\n\"*3)\n",
    "file.close()"
   ]
  }
 ],
 "metadata": {
  "kernelspec": {
   "display_name": "Python 3",
   "language": "python",
   "name": "python3"
  },
  "language_info": {
   "codemirror_mode": {
    "name": "ipython",
    "version": 3
   },
   "file_extension": ".py",
   "mimetype": "text/x-python",
   "name": "python",
   "nbconvert_exporter": "python",
   "pygments_lexer": "ipython3",
   "version": "3.6.5"
  }
 },
 "nbformat": 4,
 "nbformat_minor": 2
}
